{
 "cells": [
  {
   "cell_type": "markdown",
   "id": "4f0480fa",
   "metadata": {},
   "source": [
    "# Метод Эйлера с пересчетом решения задачи Коши для обыкновенных дифференциальных уравнений первого порядка"
   ]
  },
  {
   "cell_type": "markdown",
   "id": "12e0ee5e",
   "metadata": {},
   "source": [
    "Начальные данные: $x \\in(1,1.1),  \\varepsilon = 10^{-4} $\n",
    "\n",
    "$\\left\\{\\begin{array}{l}\n",
    "(6 xy + x^2 + 3) y_x^{\\prime}+ 3y^2 + 2xy + 2x =0 \\\\\n",
    "y(1)= -1\n",
    "\\end{array}\\right.$"
   ]
  },
  {
   "cell_type": "code",
   "execution_count": 1,
   "id": "27ac97cb",
   "metadata": {},
   "outputs": [],
   "source": [
    "x_0 = 1\n",
    "y_0 = -1\n",
    "\n",
    "x_left  = 1\n",
    "x_right = 1.1"
   ]
  },
  {
   "cell_type": "code",
   "execution_count": 2,
   "id": "532e3492",
   "metadata": {},
   "outputs": [],
   "source": [
    "import numpy as np\n",
    "import pandas as pd\n",
    "from matplotlib import pyplot as plt"
   ]
  },
  {
   "cell_type": "code",
   "execution_count": 3,
   "id": "f12cdf14",
   "metadata": {},
   "outputs": [],
   "source": [
    "def f_1(x,y,h):\n",
    "    return (-1)*(3*y**2 + 2*x*y + 2*x)/(6*x*y + x**2 + 3)\n",
    "def f_2(x, y, h):\n",
    "    return f_1(x + h, y + h*f_1(x,y, h), h)"
   ]
  },
  {
   "cell_type": "code",
   "execution_count": 4,
   "id": "d99b42a5",
   "metadata": {},
   "outputs": [],
   "source": [
    "def euler(n): \n",
    "    x = [x_0]\n",
    "    y = [y_0]\n",
    "    h = (x_right - x_left)/n\n",
    "    for i in range(n+1):\n",
    "        if (i):\n",
    "            x.append(x[0] + i*h)\n",
    "        y_i = y[i] + h/2*(f_1(x[i], y[i], h) + f_2(x[i], y[i], h))\n",
    "        y.append(y_i)\n",
    "    return x, y"
   ]
  },
  {
   "cell_type": "code",
   "execution_count": 5,
   "id": "38d6c192",
   "metadata": {},
   "outputs": [],
   "source": [
    "def print_table(n):\n",
    "    x1, y1 = euler(n)\n",
    "    for i in range(n):\n",
    "        x1[i] = round(x1[i], 4)\n",
    "        y1[i] = round(y1[i], 4)\n",
    "    data1 = pd.DataFrame((x1, y1), index=['x1', 'y1']).dropna(axis=1)\n",
    "    return data1"
   ]
  },
  {
   "cell_type": "code",
   "execution_count": 6,
   "id": "08abeba4",
   "metadata": {},
   "outputs": [
    {
     "data": {
      "text/html": [
       "<div>\n",
       "<style scoped>\n",
       "    .dataframe tbody tr th:only-of-type {\n",
       "        vertical-align: middle;\n",
       "    }\n",
       "\n",
       "    .dataframe tbody tr th {\n",
       "        vertical-align: top;\n",
       "    }\n",
       "\n",
       "    .dataframe thead th {\n",
       "        text-align: right;\n",
       "    }\n",
       "</style>\n",
       "<table border=\"1\" class=\"dataframe\">\n",
       "  <thead>\n",
       "    <tr style=\"text-align: right;\">\n",
       "      <th></th>\n",
       "      <th>0</th>\n",
       "      <th>1</th>\n",
       "      <th>2</th>\n",
       "      <th>3</th>\n",
       "      <th>4</th>\n",
       "      <th>5</th>\n",
       "      <th>6</th>\n",
       "      <th>7</th>\n",
       "      <th>8</th>\n",
       "      <th>9</th>\n",
       "      <th>10</th>\n",
       "    </tr>\n",
       "  </thead>\n",
       "  <tbody>\n",
       "    <tr>\n",
       "      <th>x1</th>\n",
       "      <td>1</td>\n",
       "      <td>1.010</td>\n",
       "      <td>1.0200</td>\n",
       "      <td>1.0300</td>\n",
       "      <td>1.040</td>\n",
       "      <td>1.0500</td>\n",
       "      <td>1.0600</td>\n",
       "      <td>1.0700</td>\n",
       "      <td>1.080</td>\n",
       "      <td>1.0900</td>\n",
       "      <td>1.100000</td>\n",
       "    </tr>\n",
       "    <tr>\n",
       "      <th>y1</th>\n",
       "      <td>-1</td>\n",
       "      <td>-0.985</td>\n",
       "      <td>-0.9698</td>\n",
       "      <td>-0.9545</td>\n",
       "      <td>-0.939</td>\n",
       "      <td>-0.9233</td>\n",
       "      <td>-0.9073</td>\n",
       "      <td>-0.8909</td>\n",
       "      <td>-0.874</td>\n",
       "      <td>-0.8566</td>\n",
       "      <td>-0.838401</td>\n",
       "    </tr>\n",
       "  </tbody>\n",
       "</table>\n",
       "</div>"
      ],
      "text/plain": [
       "    0      1       2       3      4       5       6       7      8       9   \\\n",
       "x1   1  1.010  1.0200  1.0300  1.040  1.0500  1.0600  1.0700  1.080  1.0900   \n",
       "y1  -1 -0.985 -0.9698 -0.9545 -0.939 -0.9233 -0.9073 -0.8909 -0.874 -0.8566   \n",
       "\n",
       "          10  \n",
       "x1  1.100000  \n",
       "y1 -0.838401  "
      ]
     },
     "execution_count": 6,
     "metadata": {},
     "output_type": "execute_result"
    }
   ],
   "source": [
    "print_table(10)"
   ]
  }
 ],
 "metadata": {
  "kernelspec": {
   "display_name": "Python 3 (ipykernel)",
   "language": "python",
   "name": "python3"
  },
  "language_info": {
   "codemirror_mode": {
    "name": "ipython",
    "version": 3
   },
   "file_extension": ".py",
   "mimetype": "text/x-python",
   "name": "python",
   "nbconvert_exporter": "python",
   "pygments_lexer": "ipython3",
   "version": "3.9.7"
  }
 },
 "nbformat": 4,
 "nbformat_minor": 5
}
