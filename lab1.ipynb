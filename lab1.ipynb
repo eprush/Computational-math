{
 "cells": [
  {
   "cell_type": "code",
   "execution_count": 1,
   "id": "15517dee",
   "metadata": {},
   "outputs": [],
   "source": [
    "import numpy as np\n",
    "from matplotlib import pyplot as plt"
   ]
  },
  {
   "cell_type": "code",
   "execution_count": 2,
   "id": "b9fd279d",
   "metadata": {},
   "outputs": [],
   "source": [
    "#Условие задачи\n",
    "gamma_0 = 5/3\n",
    "rho_0   = 2.219*10**(-4)\n",
    "U_0     = -1.587*10**5\n",
    "P_0     = 3.7812*10**6\n",
    "gamma_3 = 5/3\n",
    "rho_3   = 2.71*10**(-3)\n",
    "U_3     = 10\n",
    "P_3     = 5*10**(5)"
   ]
  },
  {
   "cell_type": "markdown",
   "id": "5cfcca24",
   "metadata": {},
   "source": [
    "Введение"
   ]
  },
  {
   "cell_type": "code",
   "execution_count": 3,
   "id": "eddf2b90",
   "metadata": {},
   "outputs": [],
   "source": [
    "def alpha(gamma):\n",
    "    return (gamma + 1)/(gamma - 1)\n",
    "\n",
    "def C(gamma, P, rho):\n",
    "    return (gamma*P/rho)**0.5\n",
    "\n",
    "def e(gamma, P, rho):\n",
    "    return 2*C(gamma, P, rho)**2/(gamma*(gamma - 1)*(U_3 - U_0)**2)"
   ]
  },
  {
   "cell_type": "code",
   "execution_count": 4,
   "id": "926f7a2c",
   "metadata": {},
   "outputs": [],
   "source": [
    "#Обозначения\n",
    "alpha_0, alpha_3 = alpha(gamma_0), alpha(gamma_3)\n",
    "e_0, e_3         = e(gamma_0, P_0, rho_0),e(gamma_3, P_3, rho_3)\n",
    "X                = P_3/P_0\n",
    "\n",
    "a = alpha_0*alpha_3*X\n",
    "b = X**2 + 4*X + 1\n",
    "c = alpha_3 + alpha_0*X"
   ]
  },
  {
   "cell_type": "code",
   "execution_count": 5,
   "id": "d39979a9",
   "metadata": {},
   "outputs": [],
   "source": [
    "#Коэффициенты полинома\n",
    "a_0 = (alpha_0*e_3 - X*e_0*alpha_3)**2\n",
    "a_1 = 2*(  (alpha_0*e_3 - X*e_0*alpha_3) * ( e_3*(1 - 2*alpha_0*X) - e_0*X*(X - 2*alpha_3)) - a*(alpha_0*e_3 + X*e_0*alpha_3)  )\n",
    "a_2 = e_3**2 *(6*alpha_0**2 * X**2 - 8*alpha_0*X + 1) - 2*e_3*e_0*X*( alpha_0*alpha_3*(X**2 + 4*X + 1) - 2*(X+1)*(alpha_3 + alpha_0*X) + X ) + e_0**2 * X**2 * (6*alpha_3**2 - 8*alpha_3*X + X**2) + (alpha_0*alpha_3*X)**2 - 2*alpha_0*X*e_3*(alpha_0*X - 2*alpha_0*alpha_3*X + 2*alpha_3) - 2*alpha_3*e_0*X**2 * (alpha_3 + 2*alpha_0*X - 2*alpha_0*alpha_3)\n",
    "a_3 = -2*X*(  2*e_3**2 * ( (alpha_0*X)**2 - 3*alpha_0*X + 1 ) + e_0*e_3*( (alpha_3 + alpha_0*X )*b - 2*a*(X+1) - 2*X*(X+1)) + 2*e_0**2 * X*(X**2 - 3*alpha_3*X + alpha_3**2) - a*c + e_3*( alpha_3*(alpha_0*X)**2 - 2*X*(2*alpha_0*alpha_3 + alpha_0**2 * X) + 2*alpha_0*X + alpha_3 ) + e_0*X*( alpha_0*alpha_3**2 - 2*alpha_3*(2*alpha_0*X + alpha_3) + X*(alpha_0*X + 2*alpha_3) ) )\n",
    "a_4 = X**2 * (  e_3**2 * ( (alpha_0*X)**2 - 8*alpha_0*X + 6 ) - 2*e_0*e_3*( a - 2*(X+1)*c + b ) + e_0**2 * ( alpha_3**2 - 8*alpha_3*X + 6*X**2 )  + ( alpha_3**2  + 4*a + (alpha_0*X)**2 ) - 2*e_3*( (X*alpha_0)**2 + 2*a - 4*alpha_0*X - 2*alpha_3 + 1) - 2*e_0*( 2*a + alpha_3**2 - 2*X*(2*alpha_3 + alpha_0*X) + X**2 ) )\n",
    "a_5 = 2*X**3 * (  e_3**2 * ( alpha_0*X - 2 ) - e_0*e_3*( alpha_0*X - 2 + alpha_3 - 2*X ) + e_0**2 * ( alpha_3 - 2*X ) + c - e_3*( 2*alpha_0*X + alpha_3 - 2 ) - e_0*( 2*alpha_3 + alpha_0*X - 2*X )  )\n",
    "a_6 = X**4 * (  (e_3 - e_0)**2 + 1 - 2*(e_3 + e_0) )"
   ]
  },
  {
   "cell_type": "code",
   "execution_count": 6,
   "id": "57618d99",
   "metadata": {},
   "outputs": [
    {
     "name": "stdout",
     "output_type": "stream",
     "text": [
      "[0.9713322546994432, -9.073616078687259, 18.462339450013573, -3.379554327341676, 0.024552913693278156, 0.013749847858699366, 0.0002834799513489192]\n"
     ]
    }
   ],
   "source": [
    "coefficients = [a_0, a_1, a_2, a_3, a_4, a_5, a_6];\n",
    "print(coefficients)"
   ]
  },
  {
   "cell_type": "markdown",
   "id": "739ec2f9",
   "metadata": {},
   "source": [
    "Локализация корней алгебраического уравнения"
   ]
  },
  {
   "cell_type": "code",
   "execution_count": 7,
   "id": "124213b1",
   "metadata": {},
   "outputs": [],
   "source": [
    "def value(x, coeffs = coefficients):\n",
    "    polynomial      = 0\n",
    "    poly_coeffs     = coeffs[::-1]\n",
    "    for i in range(len(poly_coeffs)):\n",
    "        polynomial += x**i * poly_coeffs[i]\n",
    "    return polynomial;\n",
    "\n",
    "def localization(coeffs):\n",
    "    tmp = []\n",
    "    for value in coeffs:\n",
    "        tmp.append(abs(value))\n",
    "    A = max(tmp[1:])\n",
    "    B = max(tmp[:-1])\n",
    "    return (tmp[-1]/(abs(tmp[-1]) + B), 1 + A/tmp[0])"
   ]
  },
  {
   "cell_type": "code",
   "execution_count": 8,
   "id": "cb0121c6",
   "metadata": {},
   "outputs": [
    {
     "name": "stdout",
     "output_type": "stream",
     "text": [
      "Кольцо, в котором находятся корни уравнения:  1.5354262090725468e-05 20.007233992992777\n",
      "Значение полинома на концах кольца:  (0.00028369107589284895, 36143371.80511554)\n"
     ]
    }
   ],
   "source": [
    "a, b = localization(coefficients)[0], localization(coefficients)[1]\n",
    "print(\"Кольцо, в котором находятся корни уравнения: \", a, b)\n",
    "print(\"Значение полинома на концах кольца: \", (value(a, coefficients), value(b, coefficients)))"
   ]
  },
  {
   "cell_type": "markdown",
   "id": "9bbd885b",
   "metadata": {},
   "source": [
    "Нахождение количества действительных корней полинома"
   ]
  },
  {
   "cell_type": "code",
   "execution_count": 9,
   "id": "be457486",
   "metadata": {},
   "outputs": [
    {
     "name": "stdout",
     "output_type": "stream",
     "text": [
      "Число положительных корней: 4 либо на четное число меньше: [0, 2]\n"
     ]
    }
   ],
   "source": [
    "#Теорема Декарта для положительных корней\n",
    "\n",
    "max_count = 0\n",
    "tmp       = coefficients[0]\n",
    "for coeff in coefficients:\n",
    "    if(coeff*tmp < 0):\n",
    "        max_count += 1\n",
    "        tmp        = coeff\n",
    "root_count = []\n",
    "tmp       = max_count -2\n",
    "while(tmp >= 0):\n",
    "    root_count.append(tmp)\n",
    "    tmp -= 2\n",
    "print(\"Число положительных корней:\", max_count, 'либо на четное число меньше:', root_count[::-1] )"
   ]
  },
  {
   "cell_type": "code",
   "execution_count": 10,
   "id": "3e08e7c0",
   "metadata": {},
   "outputs": [
    {
     "name": "stdout",
     "output_type": "stream",
     "text": [
      "Число отрицательных корней: 2 либо на четное число меньше: [0]\n"
     ]
    }
   ],
   "source": [
    "#Теорема Декарта для отрицательных корней\n",
    "max_count = 0\n",
    "tmp = coefficients[0]\n",
    "for i in range(1,len(coefficients)):\n",
    "    if((-coefficients[i])*tmp < 0):\n",
    "        max_count += 1\n",
    "    tmp = coefficients[i]\n",
    "        \n",
    "root_count = []\n",
    "tmp        = max_count - 2 \n",
    "while(tmp >= 0):\n",
    "    root_count.append(tmp)\n",
    "    tmp -= 2\n",
    "print(\"Число отрицательных корней:\", max_count, 'либо на четное число меньше:', root_count[::-1])"
   ]
  },
  {
   "cell_type": "markdown",
   "id": "fdeca486",
   "metadata": {},
   "source": [
    "Нахождение корней полинома"
   ]
  },
  {
   "cell_type": "code",
   "execution_count": 11,
   "id": "082d9c36",
   "metadata": {},
   "outputs": [],
   "source": [
    "#Разобьем кольцо, на большое число отрезков [x_k, x_k+1] и найдем те из них, в которых f(x_k) и f(x_k+1) разных знаков\n",
    "#Тогда в этом отрезке будет хотя бы один корень\n",
    "N = 500000\n",
    "def splitting(piece, parts = N):\n",
    "    b      = piece[1]\n",
    "    delta  = (piece[1] - piece[0])/parts\n",
    "    piece.pop()\n",
    "    for _ in range(parts):\n",
    "        piece.append(piece[len(piece) - 1] + delta)\n",
    "    piece[len(piece) - 1] = b\n",
    "    return piece\n",
    "\n",
    "roots = []\n",
    "def root(pieces):\n",
    "    for i in range(len(pieces) - 1):\n",
    "        if( value(pieces[i])*value(pieces[i+1])  < 0):\n",
    "            roots.append( (pieces[i],pieces[i+1]) )\n",
    "    return\n",
    "\n",
    "#Применяем метод половинного деления к этим отрезкам\n",
    "def divide(piece, eps = 10**(-8) ):\n",
    "    if (piece[1] - piece[0] < eps):\n",
    "        return piece\n",
    "    \n",
    "    point = (piece[1] + piece[0])/2\n",
    "    if( value(piece[1])*value(point)  < 0):\n",
    "        piece = divide((point, piece[1]))\n",
    "    else:\n",
    "        piece = divide((piece[0], point))\n",
    "    return piece\n",
    "\n",
    "def print_roots(roots):\n",
    "    print(\"Все положительные корни полинома\")\n",
    "    for i in range(len(roots)):\n",
    "        print(roots[i][1])\n",
    "    return"
   ]
  },
  {
   "cell_type": "code",
   "execution_count": 12,
   "id": "f04b44b4",
   "metadata": {},
   "outputs": [
    {
     "name": "stdout",
     "output_type": "stream",
     "text": [
      "Точность этого метода при изначальном разбиении на 500000 :  7.394302134717048e-06\n",
      "Все положительные корни полинома\n",
      "0.13211726490443376\n",
      "0.13215649780973315\n",
      "2.6405578907452614\n",
      "6.499085337251021\n"
     ]
    }
   ],
   "source": [
    "pieces_1 = splitting([a,b])\n",
    "root(pieces_1)\n",
    "\n",
    "for i in range(len(roots)):\n",
    "    roots[i] = divide(roots[i]) \n",
    "print(\"Точность этого метода при изначальном разбиении на\", N , \": \", (roots[0][1] - roots[0][0])/( roots[0][1]) * 100)\n",
    "print_roots(roots)"
   ]
  },
  {
   "cell_type": "markdown",
   "id": "36bc1b58",
   "metadata": {},
   "source": [
    "Расчет скоростей ударных волн D_0 и D_3"
   ]
  },
  {
   "cell_type": "code",
   "execution_count": 15,
   "id": "9e46aba7",
   "metadata": {},
   "outputs": [
    {
     "name": "stdout",
     "output_type": "stream",
     "text": [
      "-4.6312104659171185\n",
      "-4.6287172140059045\n",
      "-4.630876722806566\n",
      "-4.629227650269948\n",
      "2555637.4026198527\n",
      "-13.111735558857685\n",
      "358.0510069617499\n",
      "-11.718097489402098\n",
      "Значения D_0 =  []\n",
      "Значения D_3 =  []\n"
     ]
    }
   ],
   "source": [
    "def check(D_0,D_3, U_1):\n",
    "    a_crit = np.sqrt(abs((P_3-P_0)/(rho_3-rho_0)))\n",
    "    lambda_0 = (U_0 - D_0[-1])/(a_crit)\n",
    "    lambda_1 = (U_1 - D_0[-1])/(a_crit)\n",
    "    print(lambda_0*lambda_1)\n",
    "    if (lambda_0 > 1 and lambda_1 < 1):\n",
    "        print(\"Почти верный корень:\", root)\n",
    "    else:\n",
    "        D_0.pop()\n",
    "        D_3.pop()\n",
    "    return\n",
    "\n",
    "def calculate_D(root, D_0, D_3):\n",
    "    P_1   = root*P_0\n",
    "    C_0   = C(gamma_0, P_0, rho_0)\n",
    "    U_1   = U_3 - (np.sqrt(2) * C_0 / (gamma_0*gamma_0 - gamma_0)) * (root-X)/np.sqrt(1+alpha_0*root)\n",
    "    D_0.append(1+ (P_1 - P_0)/(rho_0*(U_1 -  U_0)))\n",
    "    D_3.append(1+ (P_3 - P_1)/(rho_3*(U_3 + U_1)))\n",
    "    \n",
    "    check(D_0,D_3,U_1)\n",
    "    U_1   = U_3 + (np.sqrt(2) * C_0 / (gamma_0*gamma_0 - gamma_0)) * (root-X)/np.sqrt(1+alpha_0*root)\n",
    "    D_0.append(1+ (P_1 - P_0)/(rho_0*(U_1 -  U_0)))\n",
    "    D_3.append(1+ (P_3 - P_1)/(rho_3*(U_3 + U_1)))\n",
    "    check(D_0,D_3,U_1)\n",
    "    return\n",
    "\n",
    "D_0, D_3 = [], []\n",
    "for i in range(len(roots)):\n",
    "    if (roots[i][1] > 0):\n",
    "        calculate_D(roots[i][1], D_0, D_3)\n",
    "\n",
    "\n",
    "print(\"Значения D_0 = \", D_0 )\n",
    "print(\"Значения D_3 = \", D_3 )"
   ]
  },
  {
   "cell_type": "code",
   "execution_count": null,
   "id": "434fd08e",
   "metadata": {},
   "outputs": [],
   "source": []
  }
 ],
 "metadata": {
  "kernelspec": {
   "display_name": "Python 3 (ipykernel)",
   "language": "python",
   "name": "python3"
  },
  "language_info": {
   "codemirror_mode": {
    "name": "ipython",
    "version": 3
   },
   "file_extension": ".py",
   "mimetype": "text/x-python",
   "name": "python",
   "nbconvert_exporter": "python",
   "pygments_lexer": "ipython3",
   "version": "3.9.7"
  }
 },
 "nbformat": 4,
 "nbformat_minor": 5
}
