{
 "cells": [
  {
   "cell_type": "markdown",
   "id": "46890197",
   "metadata": {},
   "source": [
    "# Метод прогонки"
   ]
  },
  {
   "cell_type": "markdown",
   "id": "650a292b",
   "metadata": {},
   "source": [
    "## Вариант №1, задание №16"
   ]
  },
  {
   "cell_type": "markdown",
   "id": "04d43c1c",
   "metadata": {},
   "source": [
    "Решить краевую задачу для одномерного стационарного уравнения теплопроводности:\n",
    "$$\\frac{d}{d x}\\left[k(x) \\frac{d u}{d x}\\right]-q(x) u=-f(x)$$"
   ]
  },
  {
   "cell_type": "markdown",
   "id": "bbdfcfb2",
   "metadata": {},
   "source": [
    "Краевые условия задачи:\n",
    "$$ k(0) u'_x(0) = \\delta_1 \\cdot u(0)  - \\varepsilon_1$$\n",
    "$$ -k(1) u'_x(1) = \\delta_2 \\cdot u(1) - \\varepsilon_2$$\n",
    "В данной задаче:\n",
    "$ \\delta_1 = \\delta_2 = 1, \\varepsilon_1 = \\varepsilon_2 = 0 $"
   ]
  },
  {
   "cell_type": "markdown",
   "id": "7d7a239c",
   "metadata": {},
   "source": [
    "Коэффициенты:\n",
    "$ k(x) = e^x $\n",
    "$ q(x) = x + 1 $\n",
    "$ f(x) = e^x $"
   ]
  },
  {
   "cell_type": "code",
   "execution_count": 1,
   "id": "0682ab34",
   "metadata": {},
   "outputs": [],
   "source": [
    "import math\n",
    "import numpy  as np\n",
    "import pandas as pd\n",
    "from matplotlib import pyplot as plt "
   ]
  },
  {
   "cell_type": "markdown",
   "id": "0eec1468",
   "metadata": {},
   "source": [
    "### 1. Аналитическое решение модельной задачи:"
   ]
  },
  {
   "cell_type": "markdown",
   "id": "200f64df",
   "metadata": {},
   "source": [
    "$$ u = c_1 e^{\\lambda_1 x} + c_2 e^{\\lambda_2 x} +  C $$\n",
    "$$ \\lambda_{\\text{1,2}} = \\pm \\sqrt{ \\frac{q}{ k }} $$ \n",
    "$$ C = \\frac{f}{q}$$"
   ]
  },
  {
   "cell_type": "code",
   "execution_count": 2,
   "id": "95e4c327",
   "metadata": {},
   "outputs": [
    {
     "name": "stdout",
     "output_type": "stream",
     "text": [
      "lambda_1 = 0.953832 , lambda_2 = -0.953832\n",
      "C = 1.099148\n"
     ]
    }
   ],
   "source": [
    "def k(x: float) -> float:\n",
    "    return math.exp(x)\n",
    "\n",
    "def q(x: float) -> float:\n",
    "    return x + 1\n",
    "\n",
    "def f(x : float) -> float:\n",
    "    return math.exp(x)\n",
    "\n",
    "delta_1, delta_2, eps_1, eps_2 = 1, 1, 0, 0\n",
    "\n",
    "k_mean, f_mean, q_mean = k(0.5), f(0.5), q(0.5)\n",
    "C = f_mean/q_mean\n",
    "lambda_1, lambda_2 = (q_mean/k_mean)**0.5, -(q_mean/k_mean)**0.5\n",
    "\n",
    "print(\"lambda_1 =\", round(lambda_1,6), \", lambda_2 =\", round(lambda_2, 6))\n",
    "print(\"C =\", round(C,6))"
   ]
  },
  {
   "cell_type": "code",
   "execution_count": 3,
   "id": "55d388f4",
   "metadata": {},
   "outputs": [
    {
     "name": "stdout",
     "output_type": "stream",
     "text": [
      "C_1 =  -0.180042  C_2 =  -0.467324\n"
     ]
    }
   ],
   "source": [
    "C_1 = (k_mean*lambda_2 + delta_2)*(delta_1*f_mean - eps_1*q_mean)*math.exp(lambda_2)\n",
    "C_1 += (k_mean*lambda_2 - delta_1)*(delta_2*f_mean - eps_2*q_mean)\n",
    "C_1 /= q_mean\n",
    "C_1 /= (k_mean*lambda_1 - delta_1)*(k_mean*lambda_2 + delta_2)*math.exp(lambda_2) - (k_mean*lambda_2 - delta_1)*(k_mean*lambda_1+delta_2)*math.exp(lambda_1)\n",
    "\n",
    "C_2 = (k_mean*lambda_1 + delta_2)*(delta_1*f_mean - eps_1*q_mean)*math.exp(lambda_1)\n",
    "C_2 += (k_mean*lambda_1 - delta_1)*(delta_2*f_mean - eps_2*q_mean)\n",
    "C_2 /= q_mean\n",
    "C_2 /= (k_mean*lambda_2 - delta_1)*(k_mean*lambda_1 + delta_2)*math.exp(lambda_1) - (k_mean*lambda_2 + delta_2)*(k_mean*lambda_1 - delta_1)*math.exp(lambda_2)\n",
    "\n",
    "print(\"C_1 = \", round(C_1,6), \" C_2 = \", round(C_2,6))"
   ]
  },
  {
   "cell_type": "markdown",
   "id": "f90241c1",
   "metadata": {},
   "source": [
    "### 2. Численное решение модельной задачи"
   ]
  },
  {
   "cell_type": "code",
   "execution_count": 4,
   "id": "94846f33",
   "metadata": {},
   "outputs": [],
   "source": [
    "def correct_array(array: list, n : int = 10) -> list:\n",
    "    return np.array(array[::(len(array)-1)//10])\n",
    "\n",
    "L, ideal_i, ideal_L = 10, 18, 10*2**18 #L - количество отрезков, L+1 - количество узлов!!!"
   ]
  },
  {
   "cell_type": "code",
   "execution_count": 5,
   "id": "c0d566b0",
   "metadata": {},
   "outputs": [],
   "source": [
    "class Model:\n",
    "    def __init__(self, L : int = 10):\n",
    "        self.L = L\n",
    "        self.h = 1/L\n",
    "    \n",
    "    def a(self, x : float) -> float:\n",
    "        return 0 if x == 1 else k_mean\n",
    "    \n",
    "    def b(self,x: float) -> float:\n",
    "        if x == 0:\n",
    "            return -k_mean - delta_1*self.h\n",
    "        return -k_mean - delta_2*self.h if x == 1 else -2*k_mean - q_mean*(self.h**2)\n",
    "    \n",
    "    def c(self, x: float) -> float:\n",
    "        return 0 if x == 0 else k_mean\n",
    "    \n",
    "    def d(self, x: float) -> float:\n",
    "        if x == 0:\n",
    "            return -eps_1*self.h\n",
    "        return -eps_2*self.h if x == 1 else -(self.h**2)*f_mean\n",
    "    \n",
    "    def analytical(self) -> list:\n",
    "        x = correct_array(np.linspace(0, 1, self.L + 1))\n",
    "        return C_1*np.exp(lambda_1*x) + C_2*np.exp(lambda_2*x) + C\n",
    "    \n",
    "    def running_forward(self):\n",
    "        x = np.linspace(0, 1, self.L + 1)\n",
    "        alpha, beta = [-self.a(0)/self.b(0)], [self.d(0)/self.b(0)]\n",
    "        for i in range(1, len(x)-1):\n",
    "            alpha.append(-self.a(x[i])/(self.b(x[i]) + self.c(x[i])*alpha[i - 1]))\n",
    "            beta.append((self.d(x[i]) - self.c(x[i])*beta[i-1])/(self.b(x[i]) + self.c(x[i])*alpha[i - 1]))\n",
    "        return alpha[::-1], beta[::-1]\n",
    "    \n",
    "    def solve(self) -> list:\n",
    "        alpha, beta = self.running_forward()\n",
    "        u_l         = [(self.d(1) - self.c(1) * beta[0])/(self.b(1) + self.c(1)*alpha[0])]\n",
    "        for i in range(len(alpha)):\n",
    "            u_l.append(alpha[i] * u_l[i] + beta[i])\n",
    "        return correct_array(u_l[::-1])\n",
    "    \n",
    "    def errors(self) -> list:\n",
    "        return abs(self.solve() - self.analytical())\n",
    "    \n",
    "    def max_error(self) -> float:\n",
    "        print('Максимальная погрешность при L =', self.L, \":\", round(max(self.errors()), 6) )\n",
    "\n",
    "model  = Model()\n",
    "x, u, u_l     = correct_array(np.linspace(0,1, model.L + 1)), model.analytical(), model.solve()"
   ]
  },
  {
   "cell_type": "code",
   "execution_count": 6,
   "id": "0f8a9ba2",
   "metadata": {},
   "outputs": [
    {
     "name": "stdout",
     "output_type": "stream",
     "text": [
      "Максимальная погрешность при L = 10 : 0.029682\n"
     ]
    },
    {
     "data": {
      "text/html": [
       "<div>\n",
       "<style scoped>\n",
       "    .dataframe tbody tr th:only-of-type {\n",
       "        vertical-align: middle;\n",
       "    }\n",
       "\n",
       "    .dataframe tbody tr th {\n",
       "        vertical-align: top;\n",
       "    }\n",
       "\n",
       "    .dataframe thead th {\n",
       "        text-align: right;\n",
       "    }\n",
       "</style>\n",
       "<table border=\"1\" class=\"dataframe\">\n",
       "  <thead>\n",
       "    <tr style=\"text-align: right;\">\n",
       "      <th></th>\n",
       "      <th>Значение x</th>\n",
       "      <th>u(x) (аналитическое решение)</th>\n",
       "      <th>u(x) (метод прогонки)</th>\n",
       "      <th>Погрешность</th>\n",
       "    </tr>\n",
       "  </thead>\n",
       "  <tbody>\n",
       "    <tr>\n",
       "      <th>0</th>\n",
       "      <td>0.0</td>\n",
       "      <td>0.451781</td>\n",
       "      <td>0.422099</td>\n",
       "      <td>0.029682</td>\n",
       "    </tr>\n",
       "    <tr>\n",
       "      <th>1</th>\n",
       "      <td>0.1</td>\n",
       "      <td>0.476277</td>\n",
       "      <td>0.447701</td>\n",
       "      <td>0.028577</td>\n",
       "    </tr>\n",
       "    <tr>\n",
       "      <th>2</th>\n",
       "      <td>0.2</td>\n",
       "      <td>0.495103</td>\n",
       "      <td>0.467375</td>\n",
       "      <td>0.027727</td>\n",
       "    </tr>\n",
       "    <tr>\n",
       "      <th>3</th>\n",
       "      <td>0.3</td>\n",
       "      <td>0.508428</td>\n",
       "      <td>0.481302</td>\n",
       "      <td>0.027126</td>\n",
       "    </tr>\n",
       "    <tr>\n",
       "      <th>4</th>\n",
       "      <td>0.4</td>\n",
       "      <td>0.516375</td>\n",
       "      <td>0.489608</td>\n",
       "      <td>0.026767</td>\n",
       "    </tr>\n",
       "    <tr>\n",
       "      <th>5</th>\n",
       "      <td>0.5</td>\n",
       "      <td>0.519016</td>\n",
       "      <td>0.492368</td>\n",
       "      <td>0.026648</td>\n",
       "    </tr>\n",
       "    <tr>\n",
       "      <th>6</th>\n",
       "      <td>0.6</td>\n",
       "      <td>0.516375</td>\n",
       "      <td>0.489608</td>\n",
       "      <td>0.026767</td>\n",
       "    </tr>\n",
       "    <tr>\n",
       "      <th>7</th>\n",
       "      <td>0.7</td>\n",
       "      <td>0.508428</td>\n",
       "      <td>0.481302</td>\n",
       "      <td>0.027126</td>\n",
       "    </tr>\n",
       "    <tr>\n",
       "      <th>8</th>\n",
       "      <td>0.8</td>\n",
       "      <td>0.495103</td>\n",
       "      <td>0.467375</td>\n",
       "      <td>0.027727</td>\n",
       "    </tr>\n",
       "    <tr>\n",
       "      <th>9</th>\n",
       "      <td>0.9</td>\n",
       "      <td>0.476277</td>\n",
       "      <td>0.447701</td>\n",
       "      <td>0.028577</td>\n",
       "    </tr>\n",
       "    <tr>\n",
       "      <th>10</th>\n",
       "      <td>1.0</td>\n",
       "      <td>0.451781</td>\n",
       "      <td>0.422099</td>\n",
       "      <td>0.029682</td>\n",
       "    </tr>\n",
       "  </tbody>\n",
       "</table>\n",
       "</div>"
      ],
      "text/plain": [
       "    Значение x  u(x) (аналитическое решение)  u(x) (метод прогонки)  \\\n",
       "0          0.0                      0.451781               0.422099   \n",
       "1          0.1                      0.476277               0.447701   \n",
       "2          0.2                      0.495103               0.467375   \n",
       "3          0.3                      0.508428               0.481302   \n",
       "4          0.4                      0.516375               0.489608   \n",
       "5          0.5                      0.519016               0.492368   \n",
       "6          0.6                      0.516375               0.489608   \n",
       "7          0.7                      0.508428               0.481302   \n",
       "8          0.8                      0.495103               0.467375   \n",
       "9          0.9                      0.476277               0.447701   \n",
       "10         1.0                      0.451781               0.422099   \n",
       "\n",
       "    Погрешность  \n",
       "0      0.029682  \n",
       "1      0.028577  \n",
       "2      0.027727  \n",
       "3      0.027126  \n",
       "4      0.026767  \n",
       "5      0.026648  \n",
       "6      0.026767  \n",
       "7      0.027126  \n",
       "8      0.027727  \n",
       "9      0.028577  \n",
       "10     0.029682  "
      ]
     },
     "execution_count": 6,
     "metadata": {},
     "output_type": "execute_result"
    }
   ],
   "source": [
    "data = pd.DataFrame()\n",
    "data['Значение x'] = x\n",
    "data['u(x) (аналитическое решение)'] = u\n",
    "data['u(x) (метод прогонки)']        = u_l\n",
    "data['Погрешность']                  = model.errors()\n",
    "model.max_error()\n",
    "data"
   ]
  },
  {
   "cell_type": "code",
   "execution_count": 7,
   "id": "d52afe7f",
   "metadata": {},
   "outputs": [
    {
     "data": {
      "image/png": "[encoded data removed]",
      "text/plain": [
       "<Figure size 864x864 with 1 Axes>"
      ]
     },
     "metadata": {
      "needs_background": "light"
     },
     "output_type": "display_data"
    }
   ],
   "source": [
    "plt.figure(figsize=(12, 12))\n",
    "plt.scatter(x, u,   label= 'Аналитическое решение')\n",
    "plt.plot(x, u)\n",
    "plt.scatter(x, u_l, label= 'Решение методом прогонки')\n",
    "plt.plot(x, u_l)\n",
    "plt.grid()\n",
    "plt.xlabel('x')\n",
    "plt.ylabel('u(x)')\n",
    "plt.legend()\n",
    "plt.title('Решение модельной задачи')\n",
    "plt.show()"
   ]
  },
  {
   "cell_type": "markdown",
   "id": "5001d945",
   "metadata": {},
   "source": [
    "### 3. Численное решение общей задачи"
   ]
  },
  {
   "cell_type": "code",
   "execution_count": 8,
   "id": "62a8601f",
   "metadata": {},
   "outputs": [],
   "source": [
    "class Main(Model):\n",
    "    def __init__(self, L : int = 10):\n",
    "        self.L = L\n",
    "        self.h = 1/L\n",
    "        \n",
    "    def a(self, x: float) -> float:\n",
    "        if x == 0:\n",
    "            return k(0)\n",
    "        return 0 if x == 1 else k(x + self.h/2)\n",
    "    \n",
    "    def b(self, x: float) -> float:\n",
    "        if x == 0:\n",
    "            return -k(0) - delta_1*self.h\n",
    "        return -k(1) - delta_2*self.h if x == 1 else (-1)*( k(x+self.h/2) + k(x-self.h/2) + q(x)*self.h**2 )\n",
    "    \n",
    "    def c(self, x: float) -> float:\n",
    "        if x == 0:\n",
    "            return 0\n",
    "        return k(1) if x == 1 else k(x-self.h/2)\n",
    "    \n",
    "    def d(self, x : float) -> float:\n",
    "        if x == 0:\n",
    "            return -eps_1*self.h\n",
    "        return -eps_2*self.h if x == 1 else -f(x)*self.h**2\n",
    "    \n",
    "    def errors(self, ideal):\n",
    "        return abs(ideal - self.solve())\n",
    "    \n",
    "    def max_error(self, ideal):\n",
    "        result = max(self.errors(ideal))\n",
    "        print('Максимальная погрешность при L =', self.L,\":\", round(result, 6) )\n",
    "        return result\n",
    "\n",
    "main       = Main(L)\n",
    "ideal, u_l = Main(ideal_L).solve(), main.solve()"
   ]
  },
  {
   "cell_type": "code",
   "execution_count": 9,
   "id": "fa3e926c",
   "metadata": {},
   "outputs": [
    {
     "name": "stdout",
     "output_type": "stream",
     "text": [
      "Максимальная погрешность при L = 10 : 0.033516\n"
     ]
    },
    {
     "data": {
      "text/html": [
       "<div>\n",
       "<style scoped>\n",
       "    .dataframe tbody tr th:only-of-type {\n",
       "        vertical-align: middle;\n",
       "    }\n",
       "\n",
       "    .dataframe tbody tr th {\n",
       "        vertical-align: top;\n",
       "    }\n",
       "\n",
       "    .dataframe thead th {\n",
       "        text-align: right;\n",
       "    }\n",
       "</style>\n",
       "<table border=\"1\" class=\"dataframe\">\n",
       "  <thead>\n",
       "    <tr style=\"text-align: right;\">\n",
       "      <th></th>\n",
       "      <th>Значение x</th>\n",
       "      <th>u(x) при L = L</th>\n",
       "      <th>u(x) при L = ideal_L</th>\n",
       "    </tr>\n",
       "  </thead>\n",
       "  <tbody>\n",
       "    <tr>\n",
       "      <th>0</th>\n",
       "      <td>0.0</td>\n",
       "      <td>0.395449</td>\n",
       "      <td>0.428965</td>\n",
       "    </tr>\n",
       "    <tr>\n",
       "      <th>1</th>\n",
       "      <td>0.1</td>\n",
       "      <td>0.434994</td>\n",
       "      <td>0.467088</td>\n",
       "    </tr>\n",
       "    <tr>\n",
       "      <th>2</th>\n",
       "      <td>0.2</td>\n",
       "      <td>0.465382</td>\n",
       "      <td>0.496483</td>\n",
       "    </tr>\n",
       "    <tr>\n",
       "      <th>3</th>\n",
       "      <td>0.3</td>\n",
       "      <td>0.487715</td>\n",
       "      <td>0.518199</td>\n",
       "    </tr>\n",
       "    <tr>\n",
       "      <th>4</th>\n",
       "      <td>0.4</td>\n",
       "      <td>0.502879</td>\n",
       "      <td>0.533073</td>\n",
       "    </tr>\n",
       "    <tr>\n",
       "      <th>5</th>\n",
       "      <td>0.5</td>\n",
       "      <td>0.511576</td>\n",
       "      <td>0.541769</td>\n",
       "    </tr>\n",
       "    <tr>\n",
       "      <th>6</th>\n",
       "      <td>0.6</td>\n",
       "      <td>0.514361</td>\n",
       "      <td>0.544806</td>\n",
       "    </tr>\n",
       "    <tr>\n",
       "      <th>7</th>\n",
       "      <td>0.7</td>\n",
       "      <td>0.511664</td>\n",
       "      <td>0.542584</td>\n",
       "    </tr>\n",
       "    <tr>\n",
       "      <th>8</th>\n",
       "      <td>0.8</td>\n",
       "      <td>0.503821</td>\n",
       "      <td>0.535410</td>\n",
       "    </tr>\n",
       "    <tr>\n",
       "      <th>9</th>\n",
       "      <td>0.9</td>\n",
       "      <td>0.491088</td>\n",
       "      <td>0.523519</td>\n",
       "    </tr>\n",
       "    <tr>\n",
       "      <th>10</th>\n",
       "      <td>1.0</td>\n",
       "      <td>0.473663</td>\n",
       "      <td>0.507086</td>\n",
       "    </tr>\n",
       "  </tbody>\n",
       "</table>\n",
       "</div>"
      ],
      "text/plain": [
       "    Значение x  u(x) при L = L  u(x) при L = ideal_L\n",
       "0          0.0        0.395449              0.428965\n",
       "1          0.1        0.434994              0.467088\n",
       "2          0.2        0.465382              0.496483\n",
       "3          0.3        0.487715              0.518199\n",
       "4          0.4        0.502879              0.533073\n",
       "5          0.5        0.511576              0.541769\n",
       "6          0.6        0.514361              0.544806\n",
       "7          0.7        0.511664              0.542584\n",
       "8          0.8        0.503821              0.535410\n",
       "9          0.9        0.491088              0.523519\n",
       "10         1.0        0.473663              0.507086"
      ]
     },
     "execution_count": 9,
     "metadata": {},
     "output_type": "execute_result"
    }
   ],
   "source": [
    "data  = pd.DataFrame()\n",
    "data['Значение x'] = x\n",
    "data['u(x) при L = L'] = u_l\n",
    "data[\"u(x) при L = ideal_L\"] = ideal\n",
    "main.max_error(ideal)\n",
    "data"
   ]
  },
  {
   "cell_type": "code",
   "execution_count": 10,
   "id": "bdb8444e",
   "metadata": {},
   "outputs": [
    {
     "data": {
      "image/png": "[encoded data removed]",
      "text/plain": [
       "<Figure size 864x864 with 1 Axes>"
      ]
     },
     "metadata": {
      "needs_background": "light"
     },
     "output_type": "display_data"
    }
   ],
   "source": [
    "plt.figure(figsize=(12, 12))\n",
    "plt.plot(x, u_l, marker= \"o\")\n",
    "plt.grid()\n",
    "plt.xlabel('x')\n",
    "plt.ylabel('u_l(x)')\n",
    "plt.title('Решение основной задачи')\n",
    "plt.show()"
   ]
  },
  {
   "cell_type": "markdown",
   "id": "0615d2cf",
   "metadata": {},
   "source": [
    "### 4. Исследование сходимости численного решения"
   ]
  },
  {
   "cell_type": "code",
   "execution_count": 11,
   "id": "b867ba9b",
   "metadata": {},
   "outputs": [
    {
     "name": "stdout",
     "output_type": "stream",
     "text": [
      "Максимальная погрешность при L = 10 : 0.033516\n",
      "Максимальная погрешность при L = 20 : 0.016539\n",
      "Максимальная погрешность при L = 40 : 0.008215\n",
      "Максимальная погрешность при L = 80 : 0.004094\n",
      "Максимальная погрешность при L = 160 : 0.002044\n",
      "Максимальная погрешность при L = 320 : 0.001021\n",
      "Максимальная погрешность при L = 640 : 0.00051\n",
      "Максимальная погрешность при L = 1280 : 0.000255\n",
      "Максимальная погрешность при L = 2560 : 0.000127\n",
      "Максимальная погрешность при L = 5120 : 6.4e-05\n",
      "Максимальная погрешность при L = 10240 : 3.2e-05\n",
      "Максимальная погрешность при L = 20480 : 1.6e-05\n",
      "Максимальная погрешность при L = 40960 : 8e-06\n"
     ]
    }
   ],
   "source": [
    "X, Y = [], []\n",
    "\n",
    "for i in range(ideal_i-5):\n",
    "    X.append(L*2**i)\n",
    "    main = Main(X[-1])\n",
    "    Y.append(main.max_error(ideal))"
   ]
  },
  {
   "cell_type": "code",
   "execution_count": 12,
   "id": "b2fa55cb",
   "metadata": {},
   "outputs": [
    {
     "data": {
      "image/png": "[encoded data removed]",
      "text/plain": [
       "<Figure size 864x864 with 1 Axes>"
      ]
     },
     "metadata": {
      "needs_background": "light"
     },
     "output_type": "display_data"
    }
   ],
   "source": [
    "plt.figure(figsize=(12, 12))\n",
    "plt.plot(X, Y, marker= \"o\")\n",
    "plt.grid()\n",
    "plt.xlabel('Количество отрезков')\n",
    "plt.ylabel('Погрешность по первой норме')\n",
    "plt.title('Сходимость')\n",
    "plt.show()"
   ]
  },
  {
   "cell_type": "code",
   "execution_count": null,
   "id": "c66449b0",
   "metadata": {},
   "outputs": [],
   "source": []
  }
 ],
 "metadata": {
  "kernelspec": {
   "display_name": "Python 3 (ipykernel)",
   "language": "python",
   "name": "python3"
  },
  "language_info": {
   "codemirror_mode": {
    "name": "ipython",
    "version": 3
   },
   "file_extension": ".py",
   "mimetype": "text/x-python",
   "name": "python",
   "nbconvert_exporter": "python",
   "pygments_lexer": "ipython3",
   "version": "3.9.7"
  }
 },
 "nbformat": 4,
 "nbformat_minor": 5
}
