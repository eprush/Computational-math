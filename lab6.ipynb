{
 "cells": [
  {
   "cell_type": "code",
   "execution_count": 1,
   "id": "3a7e4297",
   "metadata": {},
   "outputs": [],
   "source": [
    "import numpy as np\n",
    "import matplotlib.pyplot as plt\n",
    "import pandas as pd"
   ]
  },
  {
   "cell_type": "markdown",
   "id": "5cbedfd8",
   "metadata": {},
   "source": [
    "**Аналитическое решение**"
   ]
  },
  {
   "cell_type": "code",
   "execution_count": 2,
   "id": "1d38abb8",
   "metadata": {},
   "outputs": [],
   "source": [
    "def analytical(x, t):\n",
    "    return np.log( (1 + x**2 / 2) / ( 1 - t ) )"
   ]
  },
  {
   "cell_type": "code",
   "execution_count": 3,
   "id": "1306f534",
   "metadata": {},
   "outputs": [],
   "source": [
    "def result(L):\n",
    "    x = np.linspace(0, 1, L+1)\n",
    "    return analytical(x, t = 0.9)"
   ]
  },
  {
   "cell_type": "code",
   "execution_count": 4,
   "id": "2768fb6a",
   "metadata": {},
   "outputs": [
    {
     "data": {
      "text/html": [
       "<div>\n",
       "<style scoped>\n",
       "    .dataframe tbody tr th:only-of-type {\n",
       "        vertical-align: middle;\n",
       "    }\n",
       "\n",
       "    .dataframe tbody tr th {\n",
       "        vertical-align: top;\n",
       "    }\n",
       "\n",
       "    .dataframe thead th {\n",
       "        text-align: right;\n",
       "    }\n",
       "</style>\n",
       "<table border=\"1\" class=\"dataframe\">\n",
       "  <thead>\n",
       "    <tr style=\"text-align: right;\">\n",
       "      <th></th>\n",
       "      <th>x</th>\n",
       "      <th>u (аналитическое)</th>\n",
       "    </tr>\n",
       "  </thead>\n",
       "  <tbody>\n",
       "    <tr>\n",
       "      <th>0</th>\n",
       "      <td>0.0</td>\n",
       "      <td>2.302585</td>\n",
       "    </tr>\n",
       "    <tr>\n",
       "      <th>1</th>\n",
       "      <td>0.1</td>\n",
       "      <td>2.307573</td>\n",
       "    </tr>\n",
       "    <tr>\n",
       "      <th>2</th>\n",
       "      <td>0.2</td>\n",
       "      <td>2.322388</td>\n",
       "    </tr>\n",
       "    <tr>\n",
       "      <th>3</th>\n",
       "      <td>0.3</td>\n",
       "      <td>2.346602</td>\n",
       "    </tr>\n",
       "    <tr>\n",
       "      <th>4</th>\n",
       "      <td>0.4</td>\n",
       "      <td>2.379546</td>\n",
       "    </tr>\n",
       "    <tr>\n",
       "      <th>5</th>\n",
       "      <td>0.5</td>\n",
       "      <td>2.420368</td>\n",
       "    </tr>\n",
       "    <tr>\n",
       "      <th>6</th>\n",
       "      <td>0.6</td>\n",
       "      <td>2.468100</td>\n",
       "    </tr>\n",
       "    <tr>\n",
       "      <th>7</th>\n",
       "      <td>0.7</td>\n",
       "      <td>2.521721</td>\n",
       "    </tr>\n",
       "    <tr>\n",
       "      <th>8</th>\n",
       "      <td>0.8</td>\n",
       "      <td>2.580217</td>\n",
       "    </tr>\n",
       "    <tr>\n",
       "      <th>9</th>\n",
       "      <td>0.9</td>\n",
       "      <td>2.642622</td>\n",
       "    </tr>\n",
       "    <tr>\n",
       "      <th>10</th>\n",
       "      <td>1.0</td>\n",
       "      <td>2.708050</td>\n",
       "    </tr>\n",
       "  </tbody>\n",
       "</table>\n",
       "</div>"
      ],
      "text/plain": [
       "      x  u (аналитическое)\n",
       "0   0.0           2.302585\n",
       "1   0.1           2.307573\n",
       "2   0.2           2.322388\n",
       "3   0.3           2.346602\n",
       "4   0.4           2.379546\n",
       "5   0.5           2.420368\n",
       "6   0.6           2.468100\n",
       "7   0.7           2.521721\n",
       "8   0.8           2.580217\n",
       "9   0.9           2.642622\n",
       "10  1.0           2.708050"
      ]
     },
     "execution_count": 4,
     "metadata": {},
     "output_type": "execute_result"
    }
   ],
   "source": [
    "data_10 = pd.DataFrame()\n",
    "data_10[\"x\"] = np.linspace(0,1,11)\n",
    "data_10[\"u (аналитическое)\"] = result(10)\n",
    "data_10 "
   ]
  },
  {
   "cell_type": "code",
   "execution_count": 5,
   "id": "d6bcb856",
   "metadata": {},
   "outputs": [
    {
     "data": {
      "text/plain": [
       "[<matplotlib.lines.Line2D at 0x2437c400970>]"
      ]
     },
     "execution_count": 5,
     "metadata": {},
     "output_type": "execute_result"
    },
    {
     "data": {
      "image/png": "[encoded data removed]",
      "text/plain": [
       "<Figure size 432x288 with 1 Axes>"
      ]
     },
     "metadata": {
      "needs_background": "light"
     },
     "output_type": "display_data"
    }
   ],
   "source": [
    "plt.grid()\n",
    "plt.plot(np.linspace(0, 1, 11), result(10), marker=\"o\")"
   ]
  },
  {
   "cell_type": "markdown",
   "id": "6ace8385",
   "metadata": {},
   "source": [
    "**Численное решение**"
   ]
  },
  {
   "cell_type": "code",
   "execution_count": 6,
   "id": "1b05d4b2",
   "metadata": {},
   "outputs": [],
   "source": [
    "def phi(x):\n",
    "    return np.log(1 + x**2/2)\n",
    "\n",
    "def psi_1(t):\n",
    "    return -np.log(1 - t)\n",
    "\n",
    "def psi_2(t):\n",
    "    return np.log(1.5/(1 - t))"
   ]
  },
  {
   "cell_type": "code",
   "execution_count": 7,
   "id": "e40580d8",
   "metadata": {},
   "outputs": [],
   "source": [
    "def sweep_method(u, tau, h, u_left, u_right, epsilon=1e-5):\n",
    "    L = u.size\n",
    "    C = tau / (2 * h**2)\n",
    "    d = -u[1:-1]\n",
    "    \n",
    "    u_k = u\n",
    "    max_diff = epsilon + 1\n",
    "    \n",
    "    a = np.zeros(L-2)\n",
    "    b = np.zeros(L-2)\n",
    "    c = np.zeros(L-2)\n",
    "    \n",
    "    for i in range(1, L-1):\n",
    "        a[i-1] =  C * (np.exp(u_k[i+1]) + np.exp(u_k[i]))\n",
    "        c[i-1] =  C * (np.exp(u_k[i]) + np.exp(u_k[i-1]))\n",
    "        b[i-1] = -a[i-1] - c[i-1] - 1\n",
    "    \n",
    "    while max_diff > epsilon:\n",
    "        alpha = [-a[0] / b[0]]\n",
    "        beta  = [(d[0] - c[0] * u_left) / b[0]]\n",
    "\n",
    "        for l in range(1, L - 2):\n",
    "            alpha.append(-a[l] / (b[l] + c[l]*alpha[l-1]))\n",
    "            beta.append((d[l] - c[l]*beta[l-1]) / (b[l] + c[l]*alpha[l-1]))\n",
    "\n",
    "        u_next = np.zeros(L)\n",
    "        u_next[0] = u_left\n",
    "        u_next[-1] = u_right\n",
    "    \n",
    "        for l in range(L - 2, 0, -1):\n",
    "            u_next[l] = alpha[l - 1] * u_next[l + 1] + beta[l - 1]\n",
    "        \n",
    "        max_diff = np.max(np.abs((u_next - u_k)[1:-1] / u_next[1:-1]))\n",
    "        u_k = u_next\n",
    "\n",
    "    return u_k"
   ]
  },
  {
   "cell_type": "code",
   "execution_count": 8,
   "id": "d292f87a",
   "metadata": {},
   "outputs": [],
   "source": [
    "def common_answer(L, N):\n",
    "    x, h = np.linspace(0, 1, L, retstep=True)\n",
    "    t, tau = np.linspace(0, 0.9, N, retstep=True)\n",
    "    U = np.zeros(shape=(N, L))\n",
    "    U[0] = phi(x)\n",
    "    U_0 = psi_1(t)\n",
    "    U_L = psi_2(t)\n",
    "\n",
    "    for n, t in enumerate(t[1:], 1):\n",
    "        U[n] = sweep_method(U[n-1], tau, h, U_0[n], U_L[n])\n",
    "    u = U[-1]\n",
    "    return u"
   ]
  },
  {
   "cell_type": "code",
   "execution_count": 19,
   "id": "fcc206f4",
   "metadata": {
    "scrolled": false
   },
   "outputs": [
    {
     "name": "stdout",
     "output_type": "stream",
     "text": [
      "L = 161  N = 2561\n"
     ]
    },
    {
     "data": {
      "text/html": [
       "<div>\n",
       "<style scoped>\n",
       "    .dataframe tbody tr th:only-of-type {\n",
       "        vertical-align: middle;\n",
       "    }\n",
       "\n",
       "    .dataframe tbody tr th {\n",
       "        vertical-align: top;\n",
       "    }\n",
       "\n",
       "    .dataframe thead th {\n",
       "        text-align: right;\n",
       "    }\n",
       "</style>\n",
       "<table border=\"1\" class=\"dataframe\">\n",
       "  <thead>\n",
       "    <tr style=\"text-align: right;\">\n",
       "      <th></th>\n",
       "      <th>x</th>\n",
       "      <th>u (аналитическое)</th>\n",
       "      <th>u (численное)</th>\n",
       "      <th>Погрешность</th>\n",
       "    </tr>\n",
       "  </thead>\n",
       "  <tbody>\n",
       "    <tr>\n",
       "      <th>0</th>\n",
       "      <td>0.0</td>\n",
       "      <td>2.302585</td>\n",
       "      <td>2.302585</td>\n",
       "      <td>0.000000</td>\n",
       "    </tr>\n",
       "    <tr>\n",
       "      <th>1</th>\n",
       "      <td>0.1</td>\n",
       "      <td>2.307573</td>\n",
       "      <td>2.307500</td>\n",
       "      <td>0.000073</td>\n",
       "    </tr>\n",
       "    <tr>\n",
       "      <th>2</th>\n",
       "      <td>0.2</td>\n",
       "      <td>2.322388</td>\n",
       "      <td>2.322261</td>\n",
       "      <td>0.000127</td>\n",
       "    </tr>\n",
       "    <tr>\n",
       "      <th>3</th>\n",
       "      <td>0.3</td>\n",
       "      <td>2.346602</td>\n",
       "      <td>2.346440</td>\n",
       "      <td>0.000162</td>\n",
       "    </tr>\n",
       "    <tr>\n",
       "      <th>4</th>\n",
       "      <td>0.4</td>\n",
       "      <td>2.379546</td>\n",
       "      <td>2.379368</td>\n",
       "      <td>0.000178</td>\n",
       "    </tr>\n",
       "    <tr>\n",
       "      <th>5</th>\n",
       "      <td>0.5</td>\n",
       "      <td>2.420368</td>\n",
       "      <td>2.420190</td>\n",
       "      <td>0.000178</td>\n",
       "    </tr>\n",
       "    <tr>\n",
       "      <th>6</th>\n",
       "      <td>0.6</td>\n",
       "      <td>2.468100</td>\n",
       "      <td>2.467936</td>\n",
       "      <td>0.000164</td>\n",
       "    </tr>\n",
       "    <tr>\n",
       "      <th>7</th>\n",
       "      <td>0.7</td>\n",
       "      <td>2.521721</td>\n",
       "      <td>2.521584</td>\n",
       "      <td>0.000136</td>\n",
       "    </tr>\n",
       "    <tr>\n",
       "      <th>8</th>\n",
       "      <td>0.8</td>\n",
       "      <td>2.580217</td>\n",
       "      <td>2.580119</td>\n",
       "      <td>0.000098</td>\n",
       "    </tr>\n",
       "    <tr>\n",
       "      <th>9</th>\n",
       "      <td>0.9</td>\n",
       "      <td>2.642622</td>\n",
       "      <td>2.642570</td>\n",
       "      <td>0.000052</td>\n",
       "    </tr>\n",
       "    <tr>\n",
       "      <th>10</th>\n",
       "      <td>1.0</td>\n",
       "      <td>2.708050</td>\n",
       "      <td>2.708050</td>\n",
       "      <td>0.000000</td>\n",
       "    </tr>\n",
       "  </tbody>\n",
       "</table>\n",
       "</div>"
      ],
      "text/plain": [
       "      x  u (аналитическое)  u (численное)  Погрешность\n",
       "0   0.0           2.302585       2.302585     0.000000\n",
       "1   0.1           2.307573       2.307500     0.000073\n",
       "2   0.2           2.322388       2.322261     0.000127\n",
       "3   0.3           2.346602       2.346440     0.000162\n",
       "4   0.4           2.379546       2.379368     0.000178\n",
       "5   0.5           2.420368       2.420190     0.000178\n",
       "6   0.6           2.468100       2.467936     0.000164\n",
       "7   0.7           2.521721       2.521584     0.000136\n",
       "8   0.8           2.580217       2.580119     0.000098\n",
       "9   0.9           2.642622       2.642570     0.000052\n",
       "10  1.0           2.708050       2.708050     0.000000"
      ]
     },
     "execution_count": 19,
     "metadata": {},
     "output_type": "execute_result"
    }
   ],
   "source": [
    "degree = 4\n",
    "L = 10*2**degree\n",
    "N = 10*2**(2*degree)\n",
    "x = np.linspace(0, 1, L+1)\n",
    "print(\"L =\", L+1, \" N =\", N+1)\n",
    "data = pd.DataFrame()\n",
    "data[\"x\"] = x[::2**degree]\n",
    "data[\"u (аналитическое)\"] = result(L)[0::2**degree]\n",
    "data[\"u (численное)\"]     = common_answer(L+1, N+1)[::2**degree]\n",
    "data[\"Погрешность\"]       = np.abs( result(L) - common_answer(L+1, N+1) )[::2**degree]\n",
    "data"
   ]
  },
  {
   "cell_type": "code",
   "execution_count": 10,
   "id": "458f9862",
   "metadata": {},
   "outputs": [
    {
     "data": {
      "image/png": "[encoded data removed]",
      "text/plain": [
       "<Figure size 1152x648 with 1 Axes>"
      ]
     },
     "metadata": {
      "needs_background": "light"
     },
     "output_type": "display_data"
    }
   ],
   "source": [
    "plt.figure(figsize = (16,9))\n",
    "plt.plot(x, result(L), marker= \"o\", label = 'Аналитическое решение')\n",
    "plt.plot(x, common_answer(L+1, N+1), marker= \"o\", label = 'Численное решение')\n",
    "plt.xlabel('x', fontsize=16)\n",
    "plt.ylabel('u', fontsize=16)\n",
    "plt.legend()\n",
    "plt.grid()"
   ]
  },
  {
   "cell_type": "markdown",
   "id": "97ae08f0",
   "metadata": {},
   "source": [
    "**Погрешность**"
   ]
  },
  {
   "cell_type": "code",
   "execution_count": 11,
   "id": "f16187f6",
   "metadata": {},
   "outputs": [],
   "source": [
    "def error(U1, U2):\n",
    "    error = np.max(np.abs(U2 - U1))\n",
    "    return error"
   ]
  },
  {
   "cell_type": "code",
   "execution_count": 12,
   "id": "9c3b50f3",
   "metadata": {},
   "outputs": [],
   "source": [
    "err = 0\n",
    "diff = []\n",
    "ll   = []\n",
    "for i in range(6):\n",
    "    L = 10 * 2 ** i \n",
    "    ll.append(L)\n",
    "    N = 10 * 2 ** (2*i)\n",
    "    err = error(result(L), common_answer(L+1, N+1))\n",
    "    diff.append(err)"
   ]
  },
  {
   "cell_type": "code",
   "execution_count": 13,
   "id": "ec9ff5ed",
   "metadata": {},
   "outputs": [
    {
     "name": "stdout",
     "output_type": "stream",
     "text": [
      "3.34977\n",
      "3.79853\n",
      "3.94562\n",
      "3.98613\n",
      "3.99652\n"
     ]
    }
   ],
   "source": [
    "for i in range(1, len(diff)):\n",
    "    print( round( diff[i-1]/diff[i], 5))"
   ]
  },
  {
   "cell_type": "code",
   "execution_count": 14,
   "id": "ef72d22a",
   "metadata": {
    "scrolled": false
   },
   "outputs": [
    {
     "data": {
      "image/png": "[encoded data removed]",
      "text/plain": [
       "<Figure size 1152x648 with 1 Axes>"
      ]
     },
     "metadata": {
      "needs_background": "light"
     },
     "output_type": "display_data"
    }
   ],
   "source": [
    "plt.figure(figsize = (16,9))\n",
    "plt.plot(ll, diff, marker= \"o\")\n",
    "plt.xlabel('L', fontsize=16)\n",
    "plt.ylabel('Погрешность',  fontsize=16)\n",
    "plt.grid()"
   ]
  }
 ],
 "metadata": {
  "kernelspec": {
   "display_name": "Python 3 (ipykernel)",
   "language": "python",
   "name": "python3"
  },
  "language_info": {
   "codemirror_mode": {
    "name": "ipython",
    "version": 3
   },
   "file_extension": ".py",
   "mimetype": "text/x-python",
   "name": "python",
   "nbconvert_exporter": "python",
   "pygments_lexer": "ipython3",
   "version": "3.9.7"
  }
 },
 "nbformat": 4,
 "nbformat_minor": 5
}
