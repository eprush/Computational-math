{
 "cells": [
  {
   "cell_type": "markdown",
   "id": "fc06f337",
   "metadata": {},
   "source": [
    "# Метод Рунге-Кутты решения задачи Коши для обыкновенных дифференциальных уравнений первого порядка"
   ]
  },
  {
   "cell_type": "markdown",
   "id": "4466807d",
   "metadata": {},
   "source": [
    "## Задание №9."
   ]
  },
  {
   "cell_type": "markdown",
   "id": "5af260ea",
   "metadata": {},
   "source": [
    "Начальные данные: $x \\in(1,2),  \\varepsilon = 10^{-4} $\n",
    "\n",
    "$\\left\\{\\begin{array}{l}\n",
    "x(2 x-1) y_x^{\\prime}+y^2-(4 x+1) y+4 x=0 \\\\\n",
    "y(1)=2\n",
    "\\end{array}\\right.$"
   ]
  },
  {
   "cell_type": "code",
   "execution_count": 1,
   "id": "7aabad73",
   "metadata": {},
   "outputs": [],
   "source": [
    "x_0 = 1\n",
    "y_0 = -1\n",
    "\n",
    "x_left  = 1\n",
    "x_right = 1.4"
   ]
  },
  {
   "cell_type": "code",
   "execution_count": 2,
   "id": "a75bdd54",
   "metadata": {},
   "outputs": [],
   "source": [
    "import numpy as np\n",
    "import pandas as pd\n",
    "from matplotlib import pyplot as plt"
   ]
  },
  {
   "cell_type": "markdown",
   "id": "985b972a",
   "metadata": {},
   "source": [
    "## Метод Рунге-Кутты 3 порядка точности\n",
    "### Расчет значений решения"
   ]
  },
  {
   "cell_type": "code",
   "execution_count": 3,
   "id": "9d95eadb",
   "metadata": {},
   "outputs": [],
   "source": [
    "def f_1(x,y,h):\n",
    "    return (-1)*(y**2 - 4*x*y - y + 4*x)/(2*x-1)/x\n",
    "def f_2(x, y, h):\n",
    "    return f_1(x + h/2, y + h/2*f_1(x,y, h), h)\n",
    "def f_3(x, y, h):\n",
    "    return f_1(x + h, y + 2*h*f_2(x, y, h) - h*f_1(x,y,h),h)"
   ]
  },
  {
   "cell_type": "code",
   "execution_count": 4,
   "id": "279f95cf",
   "metadata": {},
   "outputs": [],
   "source": [
    "def runge(n): \n",
    "    x = [x_0]\n",
    "    y = [y_0]\n",
    "    h = (x_right - x_left)/n\n",
    "    for i in range(n+1):\n",
    "        if (i):\n",
    "            x.append(x[0] + i*h)\n",
    "        y_i = y[i] + h/6*(f_1(x[i], y[i], h) + 4*f_2(x[i], y[i], h) + f_3(x[i], y[i], h))\n",
    "        y.append(y_i)\n",
    "    return x, y\n",
    "\n",
    "def print_table(n):\n",
    "    x1, y1 = runge(n)\n",
    "    for i in range(n):\n",
    "        x1[i] = round(x1[i], 4)\n",
    "        y1[i] = round(y1[i], 4)\n",
    "    data1 = pd.DataFrame((x1, y1), index=['x1', 'y1']).dropna(axis=1)\n",
    "    return data1"
   ]
  },
  {
   "cell_type": "markdown",
   "id": "ceeef2eb",
   "metadata": {},
   "source": [
    "Выведем вычисленные значения"
   ]
  },
  {
   "cell_type": "code",
   "execution_count": 7,
   "id": "80105488",
   "metadata": {},
   "outputs": [
    {
     "data": {
      "text/html": [
       "<div>\n",
       "<style scoped>\n",
       "    .dataframe tbody tr th:only-of-type {\n",
       "        vertical-align: middle;\n",
       "    }\n",
       "\n",
       "    .dataframe tbody tr th {\n",
       "        vertical-align: top;\n",
       "    }\n",
       "\n",
       "    .dataframe thead th {\n",
       "        text-align: right;\n",
       "    }\n",
       "</style>\n",
       "<table border=\"1\" class=\"dataframe\">\n",
       "  <thead>\n",
       "    <tr style=\"text-align: right;\">\n",
       "      <th></th>\n",
       "      <th>0</th>\n",
       "      <th>1</th>\n",
       "      <th>2</th>\n",
       "      <th>3</th>\n",
       "      <th>4</th>\n",
       "      <th>5</th>\n",
       "      <th>6</th>\n",
       "      <th>7</th>\n",
       "      <th>8</th>\n",
       "      <th>9</th>\n",
       "      <th>...</th>\n",
       "      <th>81911</th>\n",
       "      <th>81912</th>\n",
       "      <th>81913</th>\n",
       "      <th>81914</th>\n",
       "      <th>81915</th>\n",
       "      <th>81916</th>\n",
       "      <th>81917</th>\n",
       "      <th>81918</th>\n",
       "      <th>81919</th>\n",
       "      <th>81920</th>\n",
       "    </tr>\n",
       "  </thead>\n",
       "  <tbody>\n",
       "    <tr>\n",
       "      <th>x1</th>\n",
       "      <td>1</td>\n",
       "      <td>1.0</td>\n",
       "      <td>1.0000</td>\n",
       "      <td>1.0000</td>\n",
       "      <td>1.0000</td>\n",
       "      <td>1.0000</td>\n",
       "      <td>1.0000</td>\n",
       "      <td>1.0000</td>\n",
       "      <td>1.0000</td>\n",
       "      <td>1.0000</td>\n",
       "      <td>...</td>\n",
       "      <td>1.4000</td>\n",
       "      <td>1.4000</td>\n",
       "      <td>1.4000</td>\n",
       "      <td>1.4000</td>\n",
       "      <td>1.4000</td>\n",
       "      <td>1.4000</td>\n",
       "      <td>1.4000</td>\n",
       "      <td>1.4000</td>\n",
       "      <td>1.4000</td>\n",
       "      <td>1.4</td>\n",
       "    </tr>\n",
       "    <tr>\n",
       "      <th>y1</th>\n",
       "      <td>-1</td>\n",
       "      <td>-1.0</td>\n",
       "      <td>-1.0001</td>\n",
       "      <td>-1.0001</td>\n",
       "      <td>-1.0002</td>\n",
       "      <td>-1.0002</td>\n",
       "      <td>-1.0003</td>\n",
       "      <td>-1.0003</td>\n",
       "      <td>-1.0004</td>\n",
       "      <td>-1.0004</td>\n",
       "      <td>...</td>\n",
       "      <td>-24.1869</td>\n",
       "      <td>-24.1884</td>\n",
       "      <td>-24.1898</td>\n",
       "      <td>-24.1913</td>\n",
       "      <td>-24.1927</td>\n",
       "      <td>-24.1942</td>\n",
       "      <td>-24.1956</td>\n",
       "      <td>-24.1971</td>\n",
       "      <td>-24.1985</td>\n",
       "      <td>-24.2</td>\n",
       "    </tr>\n",
       "  </tbody>\n",
       "</table>\n",
       "<p>2 rows × 81921 columns</p>\n",
       "</div>"
      ],
      "text/plain": [
       "    0      1       2       3       4       5       6       7       8      \\\n",
       "x1      1    1.0  1.0000  1.0000  1.0000  1.0000  1.0000  1.0000  1.0000   \n",
       "y1     -1   -1.0 -1.0001 -1.0001 -1.0002 -1.0002 -1.0003 -1.0003 -1.0004   \n",
       "\n",
       "     9      ...    81911    81912    81913    81914    81915    81916  \\\n",
       "x1  1.0000  ...   1.4000   1.4000   1.4000   1.4000   1.4000   1.4000   \n",
       "y1 -1.0004  ... -24.1869 -24.1884 -24.1898 -24.1913 -24.1927 -24.1942   \n",
       "\n",
       "      81917    81918    81919  81920  \n",
       "x1   1.4000   1.4000   1.4000    1.4  \n",
       "y1 -24.1956 -24.1971 -24.1985  -24.2  \n",
       "\n",
       "[2 rows x 81921 columns]"
      ]
     },
     "execution_count": 7,
     "metadata": {},
     "output_type": "execute_result"
    }
   ],
   "source": [
    "print_table(81920)"
   ]
  },
  {
   "cell_type": "markdown",
   "id": "5814bd36",
   "metadata": {},
   "source": [
    "### Погрешности"
   ]
  },
  {
   "cell_type": "markdown",
   "id": "2d5f7348",
   "metadata": {},
   "source": [
    "Посчитаем погрешность используя норму\n",
    "$\\left\\|y^{(2 h)}-y^{(h)}\\right\\|=\\max _{i \\in[1, n]}\\left|y_i^{(2 h)}-y_i^{(h)}\\right|$"
   ]
  },
  {
   "cell_type": "code",
   "execution_count": 7,
   "id": "4b1c48fb",
   "metadata": {},
   "outputs": [],
   "source": [
    "def find_len(runge1, runge2):\n",
    "    x1, y1 = runge1\n",
    "    x2, y2 = runge2\n",
    "    if (len(x1) >= len(x2)):\n",
    "        runge1, runge2 = runge2, runge1\n",
    "    return runge1, runge2\n",
    "    \n",
    "def runge_error(runge1, runge2):\n",
    "    runge1, runge2 = find_len(runge1, runge2)\n",
    "    x1, y1 = runge1\n",
    "    x2, y2 = runge2\n",
    "    max_error = 0\n",
    "    for i in range(len(x1)):\n",
    "        if (x1[i] in x2):\n",
    "            j = x2.index(x1[i])\n",
    "            if( abs(y1[i] - y2[j]) > max_error):\n",
    "                max_error = abs(y1[i] - y2[j])\n",
    "    return max_error\n",
    "\n",
    "def errors(n1, n2 = 10**6, step = 10):\n",
    "    x, y = [], []\n",
    "    runge_2h = runge(10**6)\n",
    "    for i in range(n1, n2, step):\n",
    "        runge_h = runge(i)\n",
    "        x.append(i)\n",
    "        y.append(runge_error(runge_h, runge_2h))\n",
    "    return x,y"
   ]
  },
  {
   "cell_type": "code",
   "execution_count": 8,
   "id": "7ed6586d",
   "metadata": {},
   "outputs": [
    {
     "name": "stdout",
     "output_type": "stream",
     "text": [
      "Погрешность между 10 и 10^6 точками: 1.645350522494482e-10\n"
     ]
    }
   ],
   "source": [
    "runge_2h = runge(10**6)\n",
    "runge_h  = runge(10)\n",
    "print('Погрешность между 10 и 10^6 точками:' , runge_error(runge_h, runge_2h))"
   ]
  },
  {
   "cell_type": "code",
   "execution_count": 9,
   "id": "85832d55",
   "metadata": {},
   "outputs": [
    {
     "name": "stdout",
     "output_type": "stream",
     "text": [
      "Погрешность между 10^4 и 10^6 точками: 1.6431300764452317e-10\n"
     ]
    }
   ],
   "source": [
    "runge_h  = runge(10**4)\n",
    "print('Погрешность между 10^4 и 10^6 точками:' , runge_error(runge_h, runge_2h))"
   ]
  },
  {
   "cell_type": "code",
   "execution_count": 10,
   "id": "4c7eb177",
   "metadata": {},
   "outputs": [
    {
     "name": "stdout",
     "output_type": "stream",
     "text": [
      "Погрешность между 10^5 и 10^6 точками: 1.7763568394002505e-10\n"
     ]
    }
   ],
   "source": [
    "runge_h  = runge(10**5)\n",
    "print('Погрешность между 10^5 и 10^6 точками:' , runge_error(runge_h, runge_2h))"
   ]
  }
 ],
 "metadata": {
  "kernelspec": {
   "display_name": "Python 3 (ipykernel)",
   "language": "python",
   "name": "python3"
  },
  "language_info": {
   "codemirror_mode": {
    "name": "ipython",
    "version": 3
   },
   "file_extension": ".py",
   "mimetype": "text/x-python",
   "name": "python",
   "nbconvert_exporter": "python",
   "pygments_lexer": "ipython3",
   "version": "3.9.7"
  }
 },
 "nbformat": 4,
 "nbformat_minor": 5
}
