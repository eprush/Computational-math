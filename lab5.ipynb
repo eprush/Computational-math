{
 "cells": [
  {
   "cell_type": "markdown",
   "id": "1401bd63",
   "metadata": {},
   "source": [
    "# Лабораторная работа №5"
   ]
  },
  {
   "cell_type": "markdown",
   "id": "4012e232",
   "metadata": {},
   "source": [
    "## Вариант №2 Задание №7"
   ]
  },
  {
   "cell_type": "markdown",
   "id": "51a3fa31",
   "metadata": {},
   "source": [
    "Дифференциальная задача:\n",
    "$$ \n",
    "\\left.\\begin{array}{l}\n",
    "\\frac{\\partial u}{\\partial t}+a(x, t) \\frac{\\partial u}{\\partial x} = b(x, t) ; \\quad a(x, t) \\geq 0 \\\\\n",
    "u(x, 0) = \\varphi(x) ; \\quad 0 \\leq x \\leq 1 \\\\\n",
    "u(0, t) = \\psi(t) ; \\quad 0 \\leq t \\leq 1\n",
    "\\end{array} \\right \\}\n",
    "$$"
   ]
  },
  {
   "cell_type": "markdown",
   "id": "037ff195",
   "metadata": {},
   "source": [
    "$$ a(x,t) = 1 + x, b(x,t) = 1 $$\n",
    "$$ \\varphi(x) = sin(x), \\psi(t) = sin(e^{-t} - 1) + t $$"
   ]
  },
  {
   "cell_type": "markdown",
   "id": "fedfb9dd",
   "metadata": {},
   "source": [
    "Разностная схема:\n",
    "$$\n",
    "\\left.D_h=\\left\\{\\left(x_l, t^n\\right): x_l=h l, h L=1, l=\\overline{0, L} ; t^n=n \\tau, \\tau N=1, n=\\overline{0, N}\\right)\\right\\}\n",
    "$$"
   ]
  },
  {
   "cell_type": "markdown",
   "id": "30a1e85a",
   "metadata": {},
   "source": [
    "$$\n",
    "\\left.\\begin{array}{l}\n",
    "u^{n+1}_l = u^n_l - (1 + x_l) \\frac{\\tau}{2h} (1 - \\frac{\\tau}{2}) (u^n_{l-2} - 4 u^n_{l-1} + 3 u^n_l) + (1 + x_l)^2 \\frac{\\tau^2}{2h^2} (u^n_{l-2} - 2 u^n_{l-1} + u^n_l), l = \\overline{2,L}, n = \\overline{0,N-1}; \\\\\n",
    "u^0_l = sin(x_l), l = \\overline{0,L}; \\\\\n",
    "u^n_0 = sin(e^{-t^n} - 1) + t^n, n = \\overline{1,N}\n",
    "\\end{array} \\right \\}\n",
    "$$"
   ]
  },
  {
   "cell_type": "code",
   "execution_count": 1,
   "id": "1e13dd87",
   "metadata": {},
   "outputs": [],
   "source": [
    "import math\n",
    "import numpy as np\n",
    "import pandas as pd\n",
    "from matplotlib import pyplot as plt"
   ]
  },
  {
   "cell_type": "markdown",
   "id": "8fc780d5",
   "metadata": {},
   "source": [
    "### Аналитическое решение"
   ]
  },
  {
   "cell_type": "code",
   "execution_count": 2,
   "id": "5811142c",
   "metadata": {},
   "outputs": [],
   "source": [
    "def analytical(x,t : float):#найти самостоятельно\n",
    "    return t + np.sin( (x + 1 - math.exp(t)) / math.exp(t) )"
   ]
  },
  {
   "cell_type": "code",
   "execution_count": 3,
   "id": "73f05d51",
   "metadata": {},
   "outputs": [],
   "source": [
    "#все функции вплоть до раздела \"Численное решение\" написать самостоятельно\n",
    "def a(x, t = 0):\n",
    "    return 1 + x\n",
    "\n",
    "def der_a_t(x,t = 0):#производная по времени\n",
    "    return 0\n",
    "\n",
    "def der_a_x(x, t = 0):#производная по координате\n",
    "    return 1"
   ]
  },
  {
   "cell_type": "code",
   "execution_count": 4,
   "id": "48b5e639",
   "metadata": {},
   "outputs": [],
   "source": [
    "def b(x, t = 0):\n",
    "    return 1\n",
    "\n",
    "def der_b_t(x, t = 0):#производная по времени\n",
    "    return 0\n",
    "    \n",
    "def der_b_x(x, t= 0):#производная по координате\n",
    "    return 0"
   ]
  },
  {
   "cell_type": "code",
   "execution_count": 5,
   "id": "89b6f60b",
   "metadata": {},
   "outputs": [],
   "source": [
    "def phi(x):\n",
    "    return math.sin(x)\n",
    "\n",
    "def psi(t):\n",
    "    return math.sin(math.exp(-t)-1) + t\n",
    "\n",
    "def der_psi(t):#производная\n",
    "    return math.cos(math.exp(-t) - 1)*(-math.exp(-t)) + 1\n",
    "\n",
    "def double_der_psi(t):#вторая производная\n",
    "    return -math.sin( math.exp(-t) - 1)*math.exp(-2*t) - der_psi(t) + 1"
   ]
  },
  {
   "cell_type": "markdown",
   "id": "6ea5a36d",
   "metadata": {},
   "source": [
    "### Численное решение"
   ]
  },
  {
   "cell_type": "code",
   "execution_count": 6,
   "id": "d1e0bd40",
   "metadata": {},
   "outputs": [],
   "source": [
    "def correct_array(array: list, n : int = 10) -> list:\n",
    "    return np.array(array[::(len(array)-1)//10])"
   ]
  },
  {
   "cell_type": "code",
   "execution_count": 7,
   "id": "fd396ead",
   "metadata": {},
   "outputs": [],
   "source": [
    "class Solution:\n",
    "    def __init__(self, N = 10*2**1, L = 10*2**0):\n",
    "        self.N = N\n",
    "        self.L = L\n",
    "        self.u = np.zeros((L+1,N+1))\n",
    "        self.tau = 1/N\n",
    "        self.h = 1/L\n",
    "        \n",
    "        \n",
    "    def start_condition(self):\n",
    "        for l in range(0,self.L+1):\n",
    "            x = l*self.h\n",
    "            self.u[l][0] = phi(x)\n",
    "    \n",
    "    \n",
    "    def border_condition(self):\n",
    "        for n in range(1,self.N+1):\n",
    "            t = n*self.tau\n",
    "            self.u[0][n] = psi(t) #случай 1\n",
    "            #self.u[self.L][n] = psi(t) - случай 2\n",
    "    \n",
    "    \n",
    "    def add_condition(self):\n",
    "        for n in range(1, self.N+1):\n",
    "            #случай 1\n",
    "            t = n*self.tau\n",
    "            u_n0 = psi(t)\n",
    "            ux_n0 = ( b(0, t) - der_psi(t) )\n",
    "            uxx_n0 = double_der_psi(t)\n",
    "            uxx_n0 += ( b(0,t) - der_psi(t))/a(0, t)*( der_a_t(0,t)- a(0, t)*der_a_x(0,t))\n",
    "            uxx_n0 += -der_b_t(0, t) + a(0,t)*der_b_x(0,t)\n",
    "            self.u[1][n]= u_n0 + ux_n0*self.h/a(0,t) + uxx_n0*(self.h**2)/2/a(0,t)**2\n",
    "            #случай 2 - скопировать предыдущий участок кода и\n",
    "            #вместо (0,t) подставить (1,t)\n",
    "            #вместо self.u[1][n] написать self.u[L][n]\n",
    "    \n",
    "    \n",
    "    def main_condition(self):\n",
    "        for n in range(0,self.N): \n",
    "            for l in range(2,self.L+1): #вставить формулу из вашего варианта\n",
    "                x_l = l*self.h\n",
    "                self.u[l][n+1] = self.u[l][n] - a(x_l, n*self.tau)*self.tau/(2*self.h)*(1 - self.tau/2)*( self.u[l-2][n] - 4*self.u[l-1][n] + 3*self.u[l][n])\n",
    "                self.u[l][n+1] += a(x_l, n*self.tau)**2 * 2 *(self.tau/(2*self.h))**2*( self.u[l-2][n] - 2*self.u[l-1][n] + self.u[l][n]) + self.tau\n",
    "    \n",
    "    \n",
    "    def main(self):\n",
    "        self.start_condition()\n",
    "        self.border_condition()\n",
    "        self.add_condition()\n",
    "        self.main_condition()\n",
    "        \n",
    "    \n",
    "    def error(self):\n",
    "        x      = correct_array( np.linspace(0,1,self.L+1) )\n",
    "        u_a    = analytical(x, 1)\n",
    "        u_calc = correct_array( self.u.T[self.N] ) \n",
    "        return max( abs(u_a - u_calc) )\n",
    "    \n",
    "    \n",
    "    def data(self):\n",
    "        data   = pd.DataFrame()\n",
    "        x      = correct_array( np.linspace(0,1,self.L+1) )\n",
    "        u_a    = analytical(x, 1)\n",
    "        u_calc = correct_array( self.u.T[self.N] ) \n",
    "\n",
    "        data['Значение x']         = x\n",
    "        data['u(x) аналитическое'] = u_a\n",
    "        data['u(x) численное']     = u_calc\n",
    "        data['Погрешность']        = abs(u_a - u_calc)\n",
    "        return data\n",
    "    \n",
    "    \n",
    "    def graph(self):\n",
    "        x      = correct_array( np.linspace(0,1,self.L+1) )\n",
    "        u_a    = analytical(x, 1)\n",
    "        u_calc = correct_array( self.u.T[self.N] ) \n",
    "        plt.figure(figsize=(10,10))\n",
    "        plt.scatter(x, u_a,   label= 'Аналитическое решение')\n",
    "        plt.plot(x, u_a)\n",
    "        plt.scatter(x, u_calc, label= 'Численное решение')\n",
    "        plt.plot(x, u_calc)\n",
    "        plt.grid()\n",
    "        plt.xlabel('x')\n",
    "        plt.ylabel('u(x)')\n",
    "        plt.legend()\n",
    "        plt.show()"
   ]
  },
  {
   "cell_type": "code",
   "execution_count": 8,
   "id": "5b5806c5",
   "metadata": {},
   "outputs": [
    {
     "data": {
      "text/html": [
       "<div>\n",
       "<style scoped>\n",
       "    .dataframe tbody tr th:only-of-type {\n",
       "        vertical-align: middle;\n",
       "    }\n",
       "\n",
       "    .dataframe tbody tr th {\n",
       "        vertical-align: top;\n",
       "    }\n",
       "\n",
       "    .dataframe thead th {\n",
       "        text-align: right;\n",
       "    }\n",
       "</style>\n",
       "<table border=\"1\" class=\"dataframe\">\n",
       "  <thead>\n",
       "    <tr style=\"text-align: right;\">\n",
       "      <th></th>\n",
       "      <th>Значение x</th>\n",
       "      <th>u(x) аналитическое</th>\n",
       "      <th>u(x) численное</th>\n",
       "      <th>Погрешность</th>\n",
       "    </tr>\n",
       "  </thead>\n",
       "  <tbody>\n",
       "    <tr>\n",
       "      <th>0</th>\n",
       "      <td>0.0</td>\n",
       "      <td>0.409143</td>\n",
       "      <td>0.409143</td>\n",
       "      <td>0.000000e+00</td>\n",
       "    </tr>\n",
       "    <tr>\n",
       "      <th>1</th>\n",
       "      <td>0.1</td>\n",
       "      <td>0.439216</td>\n",
       "      <td>0.439216</td>\n",
       "      <td>7.028962e-08</td>\n",
       "    </tr>\n",
       "    <tr>\n",
       "      <th>2</th>\n",
       "      <td>0.2</td>\n",
       "      <td>0.470047</td>\n",
       "      <td>0.470048</td>\n",
       "      <td>1.534014e-07</td>\n",
       "    </tr>\n",
       "    <tr>\n",
       "      <th>3</th>\n",
       "      <td>0.3</td>\n",
       "      <td>0.501596</td>\n",
       "      <td>0.501596</td>\n",
       "      <td>2.440565e-07</td>\n",
       "    </tr>\n",
       "    <tr>\n",
       "      <th>4</th>\n",
       "      <td>0.4</td>\n",
       "      <td>0.533819</td>\n",
       "      <td>0.533820</td>\n",
       "      <td>3.399975e-07</td>\n",
       "    </tr>\n",
       "    <tr>\n",
       "      <th>5</th>\n",
       "      <td>0.5</td>\n",
       "      <td>0.566673</td>\n",
       "      <td>0.566674</td>\n",
       "      <td>4.387020e-07</td>\n",
       "    </tr>\n",
       "    <tr>\n",
       "      <th>6</th>\n",
       "      <td>0.6</td>\n",
       "      <td>0.600114</td>\n",
       "      <td>0.600114</td>\n",
       "      <td>5.374025e-07</td>\n",
       "    </tr>\n",
       "    <tr>\n",
       "      <th>7</th>\n",
       "      <td>0.7</td>\n",
       "      <td>0.634095</td>\n",
       "      <td>0.634096</td>\n",
       "      <td>6.331071e-07</td>\n",
       "    </tr>\n",
       "    <tr>\n",
       "      <th>8</th>\n",
       "      <td>0.8</td>\n",
       "      <td>0.668572</td>\n",
       "      <td>0.668572</td>\n",
       "      <td>7.226198e-07</td>\n",
       "    </tr>\n",
       "    <tr>\n",
       "      <th>9</th>\n",
       "      <td>0.9</td>\n",
       "      <td>0.703497</td>\n",
       "      <td>0.703498</td>\n",
       "      <td>8.025620e-07</td>\n",
       "    </tr>\n",
       "    <tr>\n",
       "      <th>10</th>\n",
       "      <td>1.0</td>\n",
       "      <td>0.738823</td>\n",
       "      <td>0.738824</td>\n",
       "      <td>8.693937e-07</td>\n",
       "    </tr>\n",
       "  </tbody>\n",
       "</table>\n",
       "</div>"
      ],
      "text/plain": [
       "    Значение x  u(x) аналитическое  u(x) численное   Погрешность\n",
       "0          0.0            0.409143        0.409143  0.000000e+00\n",
       "1          0.1            0.439216        0.439216  7.028962e-08\n",
       "2          0.2            0.470047        0.470048  1.534014e-07\n",
       "3          0.3            0.501596        0.501596  2.440565e-07\n",
       "4          0.4            0.533819        0.533820  3.399975e-07\n",
       "5          0.5            0.566673        0.566674  4.387020e-07\n",
       "6          0.6            0.600114        0.600114  5.374025e-07\n",
       "7          0.7            0.634095        0.634096  6.331071e-07\n",
       "8          0.8            0.668572        0.668572  7.226198e-07\n",
       "9          0.9            0.703497        0.703498  8.025620e-07\n",
       "10         1.0            0.738823        0.738824  8.693937e-07"
      ]
     },
     "execution_count": 8,
     "metadata": {},
     "output_type": "execute_result"
    }
   ],
   "source": [
    "sol = Solution(320,160)\n",
    "sol.main()\n",
    "sol.data()"
   ]
  },
  {
   "cell_type": "code",
   "execution_count": 9,
   "id": "87d8e3b8",
   "metadata": {},
   "outputs": [
    {
     "data": {
      "image/png": "[encoded data removed]",
      "text/plain": [
       "<Figure size 720x720 with 1 Axes>"
      ]
     },
     "metadata": {
      "needs_background": "light"
     },
     "output_type": "display_data"
    }
   ],
   "source": [
    "sol.graph()"
   ]
  },
  {
   "cell_type": "markdown",
   "id": "85351c84",
   "metadata": {},
   "source": [
    "### Исследование устойчивости"
   ]
  },
  {
   "cell_type": "code",
   "execution_count": 10,
   "id": "f5d7b785",
   "metadata": {},
   "outputs": [
    {
     "name": "stdout",
     "output_type": "stream",
     "text": [
      "max_tau/h  равно 1.0\n"
     ]
    }
   ],
   "source": [
    "A = []\n",
    "for n in range(sol.N+1):\n",
    "    B = []\n",
    "    for l in range(sol.L+1):\n",
    "        B.append( a(l*sol.h, n*sol.tau) )\n",
    "    A.append( max(B) )\n",
    "max_a   = max(A)\n",
    "max_tau = 2*sol.h/max_a\n",
    "print(\"max_tau/h  равно\", max_tau/sol.h)"
   ]
  },
  {
   "cell_type": "markdown",
   "id": "3f4254e4",
   "metadata": {},
   "source": [
    "### Точность решения"
   ]
  },
  {
   "cell_type": "code",
   "execution_count": 11,
   "id": "9dd6d877",
   "metadata": {},
   "outputs": [
    {
     "data": {
      "image/png": "[encoded data removed]",
      "text/plain": [
       "<Figure size 720x720 with 1 Axes>"
      ]
     },
     "metadata": {
      "needs_background": "light"
     },
     "output_type": "display_data"
    }
   ],
   "source": [
    "errors = [ sol.error() ]\n",
    "nodes  = [ sol.L       ]\n",
    "for i in range(2,10):\n",
    "    sol = Solution(10*2**i, 10*2**(i-1))\n",
    "    sol.main()\n",
    "    errors.append(sol.error())\n",
    "    nodes.append( sol.L    )\n",
    "plt.figure(figsize = (10,10)) \n",
    "plt.plot(nodes, errors, marker=\"o\")\n",
    "plt.grid()\n",
    "plt.show()"
   ]
  }
 ],
 "metadata": {
  "kernelspec": {
   "display_name": "Python 3 (ipykernel)",
   "language": "python",
   "name": "python3"
  },
  "language_info": {
   "codemirror_mode": {
    "name": "ipython",
    "version": 3
   },
   "file_extension": ".py",
   "mimetype": "text/x-python",
   "name": "python",
   "nbconvert_exporter": "python",
   "pygments_lexer": "ipython3",
   "version": "3.9.7"
  }
 },
 "nbformat": 4,
 "nbformat_minor": 5
}
